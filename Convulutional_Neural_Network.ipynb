{
  "nbformat": 4,
  "nbformat_minor": 0,
  "metadata": {
    "colab": {
      "provenance": [],
      "gpuType": "T4"
    },
    "kernelspec": {
      "name": "python3",
      "display_name": "Python 3"
    },
    "language_info": {
      "name": "python"
    },
    "accelerator": "GPU"
  },
  "cells": [
    {
      "cell_type": "code",
      "execution_count": 2,
      "metadata": {
        "id": "hhCRJJkPVgzd"
      },
      "outputs": [],
      "source": [
        "import pandas as pd\n",
        "import numpy as np\n",
        "import matplotlib.pyplot as plt\n",
        "import seaborn as sns\n",
        "import warnings\n",
        "warnings.filterwarnings('ignore')\n",
        "import tensorflow as tf\n",
        "from tensorflow.keras.models import Sequential\n",
        "from tensorflow.keras.layers import Dense, Dropout, Flatten, Conv2D, MaxPooling2D,BatchNormalization\n",
        "\n"
      ]
    },
    {
      "cell_type": "code",
      "source": [
        "!mkdir -p ~/.kaggle\n",
        "!cp kaggle.json ~/.kaggle/"
      ],
      "metadata": {
        "colab": {
          "base_uri": "https://localhost:8080/"
        },
        "id": "hhISIAN9Y3YP",
        "outputId": "2739668d-1319-4e95-d7fd-ca03c8e83540"
      },
      "execution_count": 10,
      "outputs": [
        {
          "output_type": "stream",
          "name": "stdout",
          "text": [
            "cp: cannot stat 'kaggle.json': No such file or directory\n"
          ]
        }
      ]
    },
    {
      "cell_type": "code",
      "source": [
        "!kaggle datasets download -d salader/dogs-vs-cats\n"
      ],
      "metadata": {
        "colab": {
          "base_uri": "https://localhost:8080/"
        },
        "id": "QBPfBDGMWV_S",
        "outputId": "2bc09f2a-f696-49d8-f3e7-04a3570d73c2"
      },
      "execution_count": 11,
      "outputs": [
        {
          "output_type": "stream",
          "name": "stdout",
          "text": [
            "Dataset URL: https://www.kaggle.com/datasets/salader/dogs-vs-cats\n",
            "License(s): unknown\n",
            "Downloading dogs-vs-cats.zip to /content\n",
            "100% 1.06G/1.06G [00:36<00:00, 33.6MB/s]\n",
            "100% 1.06G/1.06G [00:36<00:00, 31.1MB/s]\n"
          ]
        }
      ]
    },
    {
      "cell_type": "code",
      "source": [
        "import zipfile\n",
        "zip_ref = zipfile.ZipFile('/content/dogs-vs-cats.zip', 'r')\n",
        "zip_ref.extractall('/content')\n",
        "zip_ref.close()"
      ],
      "metadata": {
        "id": "Tj_XVmWtZDqM"
      },
      "execution_count": 12,
      "outputs": []
    },
    {
      "cell_type": "code",
      "source": [
        "train_ds=tf.keras.utils.image_dataset_from_directory(\n",
        "    '/content/train',\n",
        "    image_size=(256,256),\n",
        "    batch_size=32,\n",
        "    labels='inferred',\n",
        "    label_mode='int'\n",
        ")\n",
        "test_ds=tf.keras.utils.image_dataset_from_directory(\n",
        "    '/content/test',\n",
        "    image_size=(256,256),\n",
        "    batch_size=32,\n",
        "    labels='inferred',\n",
        "    label_mode='int'\n",
        ")"
      ],
      "metadata": {
        "colab": {
          "base_uri": "https://localhost:8080/"
        },
        "id": "pr9kEUJ6ZPpM",
        "outputId": "dba99fde-57d5-4a38-a984-0cf92369b05b"
      },
      "execution_count": 13,
      "outputs": [
        {
          "output_type": "stream",
          "name": "stdout",
          "text": [
            "Found 20000 files belonging to 2 classes.\n",
            "Found 5000 files belonging to 2 classes.\n"
          ]
        }
      ]
    },
    {
      "cell_type": "code",
      "source": [
        "def process(image,label):\n",
        "    image = tf.cast(image/255. ,tf.float32)\n",
        "    return image,label\n",
        "\n",
        "train_ds = train_ds.map(process)\n",
        "validation_ds = test_ds.map(process)"
      ],
      "metadata": {
        "id": "EFdB0t8RaNwM"
      },
      "execution_count": 14,
      "outputs": []
    },
    {
      "cell_type": "code",
      "source": [
        "train_ds"
      ],
      "metadata": {
        "colab": {
          "base_uri": "https://localhost:8080/"
        },
        "id": "YB_kqem_a9Ke",
        "outputId": "51d7aabf-c202-4c99-e9d1-b7d5122da3b0"
      },
      "execution_count": 11,
      "outputs": [
        {
          "output_type": "execute_result",
          "data": {
            "text/plain": [
              "<_MapDataset element_spec=(TensorSpec(shape=(None, 256, 256, 3), dtype=tf.float32, name=None), TensorSpec(shape=(None,), dtype=tf.int32, name=None))>"
            ]
          },
          "metadata": {},
          "execution_count": 11
        }
      ]
    },
    {
      "cell_type": "code",
      "source": [
        "model = Sequential()\n",
        "\n",
        "model.add(Conv2D(32,kernel_size=(3,3),padding='valid',activation='relu',input_shape=(256,256,3)))\n",
        "model.add(BatchNormalization())\n",
        "model.add(MaxPooling2D(pool_size=(2,2),strides=2,padding='valid'))\n",
        "\n",
        "model.add(Conv2D(64,kernel_size=(3,3),padding='valid',activation='relu'))\n",
        "model.add(BatchNormalization())\n",
        "model.add(MaxPooling2D(pool_size=(2,2),strides=2,padding='valid'))\n",
        "\n",
        "model.add(Conv2D(128,kernel_size=(3,3),padding='valid',activation='relu'))\n",
        "model.add(BatchNormalization())\n",
        "model.add(MaxPooling2D(pool_size=(2,2),strides=2,padding='valid'))\n",
        "\n",
        "model.add(Flatten())\n",
        "\n",
        "model.add(Dense(128,activation='relu'))\n",
        "model.add(Dropout(0.1))\n",
        "model.add(Dense(64,activation='relu'))\n",
        "model.add(Dropout(0.1))\n",
        "model.add(Dense(1,activation='sigmoid'))"
      ],
      "metadata": {
        "id": "yf4IHGRhavqA"
      },
      "execution_count": 12,
      "outputs": []
    },
    {
      "cell_type": "code",
      "source": [
        "model.summary()"
      ],
      "metadata": {
        "colab": {
          "base_uri": "https://localhost:8080/"
        },
        "id": "SwmUTGs8bXe0",
        "outputId": "68789cde-39bf-449d-f05c-4c9c5fc85904"
      },
      "execution_count": 13,
      "outputs": [
        {
          "output_type": "stream",
          "name": "stdout",
          "text": [
            "Model: \"sequential\"\n",
            "_________________________________________________________________\n",
            " Layer (type)                Output Shape              Param #   \n",
            "=================================================================\n",
            " conv2d (Conv2D)             (None, 254, 254, 32)      896       \n",
            "                                                                 \n",
            " batch_normalization (Batch  (None, 254, 254, 32)      128       \n",
            " Normalization)                                                  \n",
            "                                                                 \n",
            " max_pooling2d (MaxPooling2  (None, 127, 127, 32)      0         \n",
            " D)                                                              \n",
            "                                                                 \n",
            " conv2d_1 (Conv2D)           (None, 125, 125, 64)      18496     \n",
            "                                                                 \n",
            " batch_normalization_1 (Bat  (None, 125, 125, 64)      256       \n",
            " chNormalization)                                                \n",
            "                                                                 \n",
            " max_pooling2d_1 (MaxPoolin  (None, 62, 62, 64)        0         \n",
            " g2D)                                                            \n",
            "                                                                 \n",
            " conv2d_2 (Conv2D)           (None, 60, 60, 128)       73856     \n",
            "                                                                 \n",
            " batch_normalization_2 (Bat  (None, 60, 60, 128)       512       \n",
            " chNormalization)                                                \n",
            "                                                                 \n",
            " max_pooling2d_2 (MaxPoolin  (None, 30, 30, 128)       0         \n",
            " g2D)                                                            \n",
            "                                                                 \n",
            " flatten (Flatten)           (None, 115200)            0         \n",
            "                                                                 \n",
            " dense (Dense)               (None, 128)               14745728  \n",
            "                                                                 \n",
            " dropout (Dropout)           (None, 128)               0         \n",
            "                                                                 \n",
            " dense_1 (Dense)             (None, 64)                8256      \n",
            "                                                                 \n",
            " dropout_1 (Dropout)         (None, 64)                0         \n",
            "                                                                 \n",
            " dense_2 (Dense)             (None, 1)                 65        \n",
            "                                                                 \n",
            "=================================================================\n",
            "Total params: 14848193 (56.64 MB)\n",
            "Trainable params: 14847745 (56.64 MB)\n",
            "Non-trainable params: 448 (1.75 KB)\n",
            "_________________________________________________________________\n"
          ]
        }
      ]
    },
    {
      "cell_type": "code",
      "source": [
        "model.compile(optimizer='adam',loss='binary_crossentropy',metrics=['accuracy'])"
      ],
      "metadata": {
        "id": "QO60CxfKbav0"
      },
      "execution_count": 14,
      "outputs": []
    },
    {
      "cell_type": "code",
      "source": [
        "history=model.fit(train_ds,epochs=10,validation_data=test_ds)"
      ],
      "metadata": {
        "colab": {
          "base_uri": "https://localhost:8080/"
        },
        "id": "1wWpLheLbfLq",
        "outputId": "3c2f0a9f-d20b-4efa-91b3-ab471ec804a1"
      },
      "execution_count": 15,
      "outputs": [
        {
          "output_type": "stream",
          "name": "stdout",
          "text": [
            "Epoch 1/10\n",
            "625/625 [==============================] - 74s 102ms/step - loss: 1.1979 - accuracy: 0.5951 - val_loss: 42.7304 - val_accuracy: 0.6014\n",
            "Epoch 2/10\n",
            "625/625 [==============================] - 67s 107ms/step - loss: 0.5315 - accuracy: 0.7287 - val_loss: 92.1716 - val_accuracy: 0.6628\n",
            "Epoch 3/10\n",
            "625/625 [==============================] - 66s 106ms/step - loss: 0.4662 - accuracy: 0.7815 - val_loss: 141.5044 - val_accuracy: 0.5756\n",
            "Epoch 4/10\n",
            "625/625 [==============================] - 64s 102ms/step - loss: 0.4095 - accuracy: 0.8117 - val_loss: 89.9943 - val_accuracy: 0.6460\n",
            "Epoch 5/10\n",
            "625/625 [==============================] - 65s 103ms/step - loss: 0.3371 - accuracy: 0.8497 - val_loss: 64.1925 - val_accuracy: 0.7234\n",
            "Epoch 6/10\n",
            "625/625 [==============================] - 64s 102ms/step - loss: 0.2921 - accuracy: 0.8771 - val_loss: 71.1987 - val_accuracy: 0.6992\n",
            "Epoch 7/10\n",
            "625/625 [==============================] - 64s 102ms/step - loss: 0.2000 - accuracy: 0.9201 - val_loss: 144.9010 - val_accuracy: 0.7056\n",
            "Epoch 8/10\n",
            "625/625 [==============================] - 63s 100ms/step - loss: 0.1321 - accuracy: 0.9507 - val_loss: 179.7387 - val_accuracy: 0.6884\n",
            "Epoch 9/10\n",
            "625/625 [==============================] - 64s 102ms/step - loss: 0.0956 - accuracy: 0.9664 - val_loss: 376.5669 - val_accuracy: 0.6012\n",
            "Epoch 10/10\n",
            "625/625 [==============================] - 64s 102ms/step - loss: 0.0724 - accuracy: 0.9744 - val_loss: 289.8934 - val_accuracy: 0.6384\n"
          ]
        }
      ]
    },
    {
      "cell_type": "code",
      "source": [
        "pd.DataFrame(history.history).plot(figsize=(8,5))\n",
        "plt.grid(True)\n",
        "plt.gca().set_ylim(0,1)\n",
        "plt.show()"
      ],
      "metadata": {
        "colab": {
          "base_uri": "https://localhost:8080/",
          "height": 451
        },
        "id": "4HLwDb2RbrS0",
        "outputId": "97ed192b-aba0-455e-f572-3c40cf6aefa1"
      },
      "execution_count": 18,
      "outputs": [
        {
          "output_type": "display_data",
          "data": {
            "text/plain": [
              "<Figure size 800x500 with 1 Axes>"
            ],
            "image/png": "[encoded data removed]"
          },
          "metadata": {}
        }
      ]
    },
    {
      "cell_type": "code",
      "source": [
        "pip install keras-tuner\n"
      ],
      "metadata": {
        "colab": {
          "base_uri": "https://localhost:8080/"
        },
        "id": "ZznOAmVAefk1",
        "outputId": "162de7fd-81e7-4a92-f2ba-a7d66ff9bf5a"
      },
      "execution_count": 14,
      "outputs": [
        {
          "output_type": "stream",
          "name": "stdout",
          "text": [
            "Collecting keras-tuner\n",
            "  Downloading keras_tuner-1.4.7-py3-none-any.whl (129 kB)\n",
            "\u001b[2K     \u001b[90m━━━━━━━━━━━━━━━━━━━━━━━━━━━━━━━━━━━━━━━━\u001b[0m \u001b[32m129.1/129.1 kB\u001b[0m \u001b[31m1.5 MB/s\u001b[0m eta \u001b[36m0:00:00\u001b[0m\n",
            "\u001b[?25hRequirement already satisfied: keras in /usr/local/lib/python3.10/dist-packages (from keras-tuner) (2.15.0)\n",
            "Requirement already satisfied: packaging in /usr/local/lib/python3.10/dist-packages (from keras-tuner) (24.1)\n",
            "Requirement already satisfied: requests in /usr/local/lib/python3.10/dist-packages (from keras-tuner) (2.31.0)\n",
            "Collecting kt-legacy (from keras-tuner)\n",
            "  Downloading kt_legacy-1.0.5-py3-none-any.whl (9.6 kB)\n",
            "Requirement already satisfied: charset-normalizer<4,>=2 in /usr/local/lib/python3.10/dist-packages (from requests->keras-tuner) (3.3.2)\n",
            "Requirement already satisfied: idna<4,>=2.5 in /usr/local/lib/python3.10/dist-packages (from requests->keras-tuner) (3.7)\n",
            "Requirement already satisfied: urllib3<3,>=1.21.1 in /usr/local/lib/python3.10/dist-packages (from requests->keras-tuner) (2.0.7)\n",
            "Requirement already satisfied: certifi>=2017.4.17 in /usr/local/lib/python3.10/dist-packages (from requests->keras-tuner) (2024.6.2)\n",
            "Installing collected packages: kt-legacy, keras-tuner\n",
            "Successfully installed keras-tuner-1.4.7 kt-legacy-1.0.5\n"
          ]
        }
      ]
    },
    {
      "cell_type": "code",
      "source": [
        "import keras_tuner as kt"
      ],
      "metadata": {
        "id": "4YR95Z2LHRHw"
      },
      "execution_count": 3,
      "outputs": []
    },
    {
      "cell_type": "code",
      "source": [
        "def model_build(hp):\n",
        "  model = Sequential()\n",
        "  model.add(Conv2D(filters=hp.Int('con_filter_1',min_value=32,max_value=128,step=16),\n",
        "                   kernel_size=hp.Choice('kernel_size',values=[3,5]),\n",
        "                   strides=hp.Choice('strides',values=[1,2]),\n",
        "                   padding='valid',activation='relu',input_shape=(256,256,3)))\n",
        "  model.add(BatchNormalization())\n",
        "  model.add(MaxPooling2D(pool_size=(2,2),strides=2,padding='valid'))\n",
        "\n",
        "  model.add(Conv2D(filters=hp.Int('con_filter_2',min_value=32,max_value=64,step=16),\n",
        "                   kernel_size=hp.Choice('kernel_size',values=[3,5]),\n",
        "                   strides=hp.Choice('strides',values=[1,2]),\n",
        "                   padding='valid',activation='relu'))\n",
        "  model.add(BatchNormalization())\n",
        "  model.add(MaxPooling2D(pool_size=(2,2),strides=2,padding='valid'))\n",
        "\n",
        "  model.add(Conv2D(\n",
        "                  filters=hp.Int('con_filter_3',min_value=16,max_value=32,step=16),\n",
        "                  kernel_size=hp.Choice('kernel_size',values=[3,5]),\n",
        "                  strides=hp.Choice('strides',values=[1,2]),\n",
        "                  padding='valid',activation='relu'))\n",
        "  model.add(BatchNormalization())\n",
        "  model.add(MaxPooling2D(pool_size=(2,2),strides=2,padding='valid'))\n",
        "\n",
        "  model.add(Flatten())\n",
        "\n",
        "  model.add(Dense(hp.Choice('units_1',values=[32,64,128]),activation='relu'))\n",
        "  model.add(Dropout(hp.Choice(\n",
        "                'dropout_1',[0.1,0.2,0.3,0.4,0.5,0.6,0.7,0.8,0.9]\n",
        "  )))\n",
        "  model.add(Dense(\n",
        "                  hp.Choice('units_2',values=[16,32,64]),\n",
        "                  activation='relu'\n",
        "  ))\n",
        "  model.add(Dropout(\n",
        "                hp.Choice(\n",
        "                'dropout_2',[0.1,0.2,0.3,0.4,0.5,0.6,0.7,0.8,0.9]\n",
        "  )))\n",
        "  model.add(Dense(1,activation='sigmoid'))\n",
        "  model.compile(optimizer=tf.keras.optimizers.Adam(hp.Choice('learning_rate',values=[1e-2,1e-3]))\n",
        "                ,loss='binary_crossentropy',metrics=['accuracy'])\n",
        "  return model\n"
      ],
      "metadata": {
        "id": "jepqN25fHbMZ"
      },
      "execution_count": 25,
      "outputs": []
    },
    {
      "cell_type": "code",
      "source": [
        "from keras_tuner import RandomSearch"
      ],
      "metadata": {
        "id": "o2qllCsHL4Uq"
      },
      "execution_count": 15,
      "outputs": []
    },
    {
      "cell_type": "code",
      "source": [
        "tuner=RandomSearch(model_build,objective='val_accuracy',max_trials=5,directory='project',project_name='dogs_vs_cats')"
      ],
      "metadata": {
        "id": "xVdYQlv0MlaB"
      },
      "execution_count": 26,
      "outputs": []
    },
    {
      "cell_type": "code",
      "source": [
        "tuner.search(train_ds,epochs=5,validation_data=test_ds)"
      ],
      "metadata": {
        "colab": {
          "base_uri": "https://localhost:8080/"
        },
        "id": "md6FMIzGMssA",
        "outputId": "6ba3ba10-4c35-4122-ffe6-95ed4b393172"
      },
      "execution_count": 27,
      "outputs": [
        {
          "output_type": "stream",
          "name": "stdout",
          "text": [
            "Trial 5 Complete [00h 11m 12s]\n",
            "val_accuracy: 0.5302000045776367\n",
            "\n",
            "Best val_accuracy So Far: 0.5302000045776367\n",
            "Total elapsed time: 00h 36m 29s\n"
          ]
        }
      ]
    },
    {
      "cell_type": "code",
      "source": [
        "tuner.get_best_hyperparameters()[0].values"
      ],
      "metadata": {
        "colab": {
          "base_uri": "https://localhost:8080/"
        },
        "id": "VV0pxT8mO15j",
        "outputId": "a7df99f6-f1e4-41de-8f2a-a26bc9ce6334"
      },
      "execution_count": 28,
      "outputs": [
        {
          "output_type": "execute_result",
          "data": {
            "text/plain": [
              "{'con_filter_1': 96,\n",
              " 'kernel_size': 5,\n",
              " 'strides': 1,\n",
              " 'con_filter_2': 32,\n",
              " 'con_filter_3': 32,\n",
              " 'units_1': 64,\n",
              " 'dropout_1': 0.9,\n",
              " 'units_2': 32,\n",
              " 'dropout_2': 0.8,\n",
              " 'learning_rate': 0.01}"
            ]
          },
          "metadata": {},
          "execution_count": 28
        }
      ]
    },
    {
      "cell_type": "code",
      "source": [
        "model=tuner.get_best_models(num_models=1)[0]"
      ],
      "metadata": {
        "id": "N5Yb246WXgIO"
      },
      "execution_count": 29,
      "outputs": []
    },
    {
      "cell_type": "code",
      "source": [
        "model.summary()"
      ],
      "metadata": {
        "colab": {
          "base_uri": "https://localhost:8080/"
        },
        "id": "YjaZRoJiXjyF",
        "outputId": "f0f5b81a-4abc-43d5-fb16-b909e937f2b6"
      },
      "execution_count": 30,
      "outputs": [
        {
          "output_type": "stream",
          "name": "stdout",
          "text": [
            "Model: \"sequential\"\n",
            "_________________________________________________________________\n",
            " Layer (type)                Output Shape              Param #   \n",
            "=================================================================\n",
            " conv2d (Conv2D)             (None, 252, 252, 96)      7296      \n",
            "                                                                 \n",
            " batch_normalization (Batch  (None, 252, 252, 96)      384       \n",
            " Normalization)                                                  \n",
            "                                                                 \n",
            " max_pooling2d (MaxPooling2  (None, 126, 126, 96)      0         \n",
            " D)                                                              \n",
            "                                                                 \n",
            " conv2d_1 (Conv2D)           (None, 122, 122, 32)      76832     \n",
            "                                                                 \n",
            " batch_normalization_1 (Bat  (None, 122, 122, 32)      128       \n",
            " chNormalization)                                                \n",
            "                                                                 \n",
            " max_pooling2d_1 (MaxPoolin  (None, 61, 61, 32)        0         \n",
            " g2D)                                                            \n",
            "                                                                 \n",
            " conv2d_2 (Conv2D)           (None, 57, 57, 32)        25632     \n",
            "                                                                 \n",
            " batch_normalization_2 (Bat  (None, 57, 57, 32)        128       \n",
            " chNormalization)                                                \n",
            "                                                                 \n",
            " max_pooling2d_2 (MaxPoolin  (None, 28, 28, 32)        0         \n",
            " g2D)                                                            \n",
            "                                                                 \n",
            " flatten (Flatten)           (None, 25088)             0         \n",
            "                                                                 \n",
            " dense (Dense)               (None, 64)                1605696   \n",
            "                                                                 \n",
            " dropout (Dropout)           (None, 64)                0         \n",
            "                                                                 \n",
            " dense_1 (Dense)             (None, 32)                2080      \n",
            "                                                                 \n",
            " dropout_1 (Dropout)         (None, 32)                0         \n",
            "                                                                 \n",
            " dense_2 (Dense)             (None, 1)                 33        \n",
            "                                                                 \n",
            "=================================================================\n",
            "Total params: 1718209 (6.55 MB)\n",
            "Trainable params: 1717889 (6.55 MB)\n",
            "Non-trainable params: 320 (1.25 KB)\n",
            "_________________________________________________________________\n"
          ]
        }
      ]
    },
    {
      "cell_type": "code",
      "source": [
        "history=model.fit(train_ds,epochs=10,validation_data=test_ds,initial_epoch=5)"
      ],
      "metadata": {
        "colab": {
          "base_uri": "https://localhost:8080/"
        },
        "id": "lQDhwzRzXl6Z",
        "outputId": "6d95cc5e-dc31-43b5-fa6e-6c9e9da54b0f"
      },
      "execution_count": 31,
      "outputs": [
        {
          "output_type": "stream",
          "name": "stdout",
          "text": [
            "Epoch 6/10\n",
            "625/625 [==============================] - 105s 163ms/step - loss: 0.6941 - accuracy: 0.4948 - val_loss: 1.6707 - val_accuracy: 0.5184\n",
            "Epoch 7/10\n",
            "625/625 [==============================] - 103s 164ms/step - loss: 0.6948 - accuracy: 0.4981 - val_loss: 4.0242 - val_accuracy: 0.5356\n",
            "Epoch 8/10\n",
            "625/625 [==============================] - 101s 162ms/step - loss: 0.6963 - accuracy: 0.4976 - val_loss: 6.5732 - val_accuracy: 0.5122\n",
            "Epoch 9/10\n",
            "625/625 [==============================] - 103s 164ms/step - loss: 0.6935 - accuracy: 0.4953 - val_loss: 10.6307 - val_accuracy: 0.5142\n",
            "Epoch 10/10\n",
            "625/625 [==============================] - 102s 163ms/step - loss: 0.6940 - accuracy: 0.4994 - val_loss: 2.2727 - val_accuracy: 0.5012\n"
          ]
        }
      ]
    },
    {
      "cell_type": "code",
      "source": [
        "pd.DataFrame(history.history).plot(figsize=(8,5))\n",
        "plt.grid(True)\n",
        "plt.gca().set_ylim(0,1)\n",
        "plt.show()"
      ],
      "metadata": {
        "colab": {
          "base_uri": "https://localhost:8080/",
          "height": 451
        },
        "id": "gEUz6Y2PYg6o",
        "outputId": "620fb2f2-e76e-434f-c13a-8a29a88e4425"
      },
      "execution_count": 33,
      "outputs": [
        {
          "output_type": "display_data",
          "data": {
            "text/plain": [
              "<Figure size 800x500 with 1 Axes>"
            ],
            "image/png": "[encoded data removed]"
          },
          "metadata": {}
        }
      ]
    },
    {
      "cell_type": "code",
      "source": [
        "# prompt: load mnist dataset\n",
        "\n",
        "import tensorflow as tf\n",
        "\n",
        "mnist = tf.keras.datasets.mnist\n",
        "\n",
        "(x_train, y_train), (x_test, y_test) = mnist.load_data()\n",
        "x_train, x_test = x_train / 255.0, x_test / 255.0\n"
      ],
      "metadata": {
        "colab": {
          "base_uri": "https://localhost:8080/"
        },
        "id": "TIFY52w-a8SO",
        "outputId": "6c8e935f-b90e-4d8d-f454-99ec0293e726"
      },
      "execution_count": 3,
      "outputs": [
        {
          "output_type": "stream",
          "name": "stdout",
          "text": [
            "Downloading data from https://storage.googleapis.com/tensorflow/tf-keras-datasets/mnist.npz\n",
            "11490434/11490434 [==============================] - 0s 0us/step\n"
          ]
        }
      ]
    },
    {
      "cell_type": "code",
      "source": [
        "x_train.shape"
      ],
      "metadata": {
        "colab": {
          "base_uri": "https://localhost:8080/"
        },
        "id": "x0uLx3RrbYz4",
        "outputId": "b921ecd1-229c-4cb7-f3bd-a3d1378d0390"
      },
      "execution_count": 35,
      "outputs": [
        {
          "output_type": "execute_result",
          "data": {
            "text/plain": [
              "(60000, 28, 28)"
            ]
          },
          "metadata": {},
          "execution_count": 35
        }
      ]
    },
    {
      "cell_type": "code",
      "source": [
        "model = Sequential()\n",
        "\n",
        "model.add(Conv2D(32,kernel_size=(3,3),padding='valid',activation='relu',input_shape=(28,28,1)))\n",
        "model.add(BatchNormalization())\n",
        "model.add(MaxPooling2D(pool_size=(2,2),strides=2,padding='valid'))\n",
        "\n",
        "model.add(Conv2D(64,kernel_size=(3,3),padding='valid',activation='relu'))\n",
        "model.add(BatchNormalization())\n",
        "model.add(MaxPooling2D(pool_size=(2,2),strides=2,padding='valid'))\n",
        "\n",
        "model.add(Conv2D(128,kernel_size=(3,3),padding='valid',activation='relu'))\n",
        "model.add(BatchNormalization())\n",
        "model.add(MaxPooling2D(pool_size=(2,2),strides=2,padding='valid'))\n",
        "\n",
        "model.add(Flatten())\n",
        "\n",
        "model.add(Dense(10,activation='relu'))\n",
        "model.add(Dropout(0.1))\n",
        "model.add(Dense(5,activation='relu'))\n",
        "model.add(Dropout(0.1))\n",
        "model.add(Dense(10,activation='softmax'))"
      ],
      "metadata": {
        "id": "obls7ec3bdS5"
      },
      "execution_count": 6,
      "outputs": []
    },
    {
      "cell_type": "code",
      "source": [
        "model.summary()"
      ],
      "metadata": {
        "colab": {
          "base_uri": "https://localhost:8080/"
        },
        "id": "wQa4cq78cKCD",
        "outputId": "0cf03a27-be33-4917-fdbe-94dd7f10721c"
      },
      "execution_count": 7,
      "outputs": [
        {
          "output_type": "stream",
          "name": "stdout",
          "text": [
            "Model: \"sequential_1\"\n",
            "_________________________________________________________________\n",
            " Layer (type)                Output Shape              Param #   \n",
            "=================================================================\n",
            " conv2d_3 (Conv2D)           (None, 26, 26, 32)        320       \n",
            "                                                                 \n",
            " batch_normalization_3 (Bat  (None, 26, 26, 32)        128       \n",
            " chNormalization)                                                \n",
            "                                                                 \n",
            " max_pooling2d_3 (MaxPoolin  (None, 13, 13, 32)        0         \n",
            " g2D)                                                            \n",
            "                                                                 \n",
            " conv2d_4 (Conv2D)           (None, 11, 11, 64)        18496     \n",
            "                                                                 \n",
            " batch_normalization_4 (Bat  (None, 11, 11, 64)        256       \n",
            " chNormalization)                                                \n",
            "                                                                 \n",
            " max_pooling2d_4 (MaxPoolin  (None, 5, 5, 64)          0         \n",
            " g2D)                                                            \n",
            "                                                                 \n",
            " conv2d_5 (Conv2D)           (None, 3, 3, 128)         73856     \n",
            "                                                                 \n",
            " batch_normalization_5 (Bat  (None, 3, 3, 128)         512       \n",
            " chNormalization)                                                \n",
            "                                                                 \n",
            " max_pooling2d_5 (MaxPoolin  (None, 1, 1, 128)         0         \n",
            " g2D)                                                            \n",
            "                                                                 \n",
            " flatten_1 (Flatten)         (None, 128)               0         \n",
            "                                                                 \n",
            " dense_3 (Dense)             (None, 10)                1290      \n",
            "                                                                 \n",
            " dropout_2 (Dropout)         (None, 10)                0         \n",
            "                                                                 \n",
            " dense_4 (Dense)             (None, 5)                 55        \n",
            "                                                                 \n",
            " dropout_3 (Dropout)         (None, 5)                 0         \n",
            "                                                                 \n",
            " dense_5 (Dense)             (None, 10)                60        \n",
            "                                                                 \n",
            "=================================================================\n",
            "Total params: 94973 (370.99 KB)\n",
            "Trainable params: 94525 (369.24 KB)\n",
            "Non-trainable params: 448 (1.75 KB)\n",
            "_________________________________________________________________\n"
          ]
        }
      ]
    },
    {
      "cell_type": "code",
      "source": [
        "model.compile(optimizer='adam',loss='sparse_categorical_crossentropy',metrics=['accuracy'])"
      ],
      "metadata": {
        "id": "VNF8AT0LcYVZ"
      },
      "execution_count": 8,
      "outputs": []
    },
    {
      "cell_type": "code",
      "source": [
        "model.fit(x_train,y_train,epochs=5,validation_data=(x_test,y_test))"
      ],
      "metadata": {
        "colab": {
          "base_uri": "https://localhost:8080/"
        },
        "id": "DnyTXnm8cxA6",
        "outputId": "f8f4e061-6435-4539-b944-cba416d36624"
      },
      "execution_count": 9,
      "outputs": [
        {
          "output_type": "stream",
          "name": "stdout",
          "text": [
            "Epoch 1/5\n",
            "1875/1875 [==============================] - 84s 44ms/step - loss: 0.7264 - accuracy: 0.7343 - val_loss: 0.1533 - val_accuracy: 0.9721\n",
            "Epoch 2/5\n",
            "1875/1875 [==============================] - 79s 42ms/step - loss: 0.4673 - accuracy: 0.8278 - val_loss: 0.1346 - val_accuracy: 0.9783\n",
            "Epoch 3/5\n",
            "1875/1875 [==============================] - 82s 44ms/step - loss: 0.4229 - accuracy: 0.8529 - val_loss: 0.1353 - val_accuracy: 0.9756\n",
            "Epoch 4/5\n",
            "1875/1875 [==============================] - 78s 42ms/step - loss: 0.3878 - accuracy: 0.8734 - val_loss: 0.1299 - val_accuracy: 0.9794\n",
            "Epoch 5/5\n",
            "1875/1875 [==============================] - 81s 43ms/step - loss: 0.3697 - accuracy: 0.8800 - val_loss: 0.1398 - val_accuracy: 0.9705\n"
          ]
        },
        {
          "output_type": "execute_result",
          "data": {
            "text/plain": [
              "<keras.src.callbacks.History at 0x79d797559ba0>"
            ]
          },
          "metadata": {},
          "execution_count": 9
        }
      ]
    },
    {
      "cell_type": "code",
      "source": [
        "def model_build(hp):\n",
        "  model = Sequential()\n",
        "  model.add(Conv2D(filters=hp.Int('con_filter_1',min_value=32,max_value=128,step=16),\n",
        "                   kernel_size=hp.Choice('kernel_size',values=[3,5]),\n",
        "                   strides=hp.Choice('strides',values=[1,2]),\n",
        "                   padding='valid',activation='relu',input_shape=(28,28,1)))\n",
        "  model.add(BatchNormalization())\n",
        "  model.add(MaxPooling2D(pool_size=(2,2),strides=2,padding='valid'))\n",
        "\n",
        "  model.add(Conv2D(filters=hp.Int('con_filter_2',min_value=32,max_value=64,step=16),\n",
        "                   kernel_size=hp.Choice('kernel_size',values=[3,5]),\n",
        "                   strides=hp.Choice('strides',values=[1,2]),\n",
        "                   padding='valid',activation='relu'))\n",
        "  model.add(BatchNormalization())\n",
        "  model.add(MaxPooling2D(pool_size=(2,2),strides=2,padding='valid'))\n",
        "\n",
        "  model.add(Conv2D(\n",
        "                  filters=hp.Int('con_filter_3',min_value=16,max_value=32,step=16),\n",
        "                  kernel_size=hp.Choice('kernel_size',values=[3,5]),\n",
        "                  strides=hp.Choice('strides',values=[1,2]),\n",
        "                  padding='valid',activation='relu'))\n",
        "  model.add(BatchNormalization())\n",
        "  model.add(MaxPooling2D(pool_size=(2,2),strides=2,padding='valid'))\n",
        "\n",
        "  model.add(Flatten())\n",
        "\n",
        "  model.add(Dense(hp.Choice('units_1',values=[32,64,128]),activation='relu'))\n",
        "  model.add(Dropout(hp.Choice(\n",
        "                'dropout_1',[0.1,0.2,0.3,0.4,0.5,0.6,0.7,0.8,0.9]\n",
        "  )))\n",
        "  model.add(Dense(\n",
        "                  hp.Choice('units_2',values=[16,32,64]),\n",
        "                  activation='relu'\n",
        "  ))\n",
        "  model.add(Dropout(\n",
        "                hp.Choice(\n",
        "                'dropout_2',[0.1,0.2,0.3,0.4,0.5,0.6,0.7,0.8,0.9]\n",
        "  )))\n",
        "  model.add(Dense(10,activation='softmax'))\n",
        "  model.compile(optimizer=tf.keras.optimizers.Adam(hp.Choice('learning_rate',values=[1e-2,1e-3]))\n",
        "                ,loss='sparse_categorical_crossentropy',metrics=['accuracy'])\n",
        "  return model\n"
      ],
      "metadata": {
        "id": "KRgjzk3Oc0yg"
      },
      "execution_count": 11,
      "outputs": []
    },
    {
      "cell_type": "code",
      "source": [
        "tuner=RandomSearch(model_build,objective='val_accuracy',max_trials=3,directory='project_1',project_name='mnist')"
      ],
      "metadata": {
        "id": "EczUtkXWffNA"
      },
      "execution_count": 16,
      "outputs": []
    },
    {
      "cell_type": "code",
      "source": [
        "tuner.search(x_train,y_train,epochs=5,validation_data=(x_test,y_test))"
      ],
      "metadata": {
        "colab": {
          "base_uri": "https://localhost:8080/"
        },
        "id": "juFWcQk0fnO4",
        "outputId": "c6873096-4656-423e-9557-7208e0488b2d"
      },
      "execution_count": 17,
      "outputs": [
        {
          "output_type": "stream",
          "name": "stdout",
          "text": [
            "Trial 3 Complete [00h 05m 47s]\n",
            "val_accuracy: 0.9776999950408936\n",
            "\n",
            "Best val_accuracy So Far: 0.9776999950408936\n",
            "Total elapsed time: 00h 05m 49s\n"
          ]
        }
      ]
    },
    {
      "cell_type": "code",
      "source": [
        "tuner.get_best_hyperparameters()[0].values"
      ],
      "metadata": {
        "colab": {
          "base_uri": "https://localhost:8080/"
        },
        "id": "WPv44cqNf7tB",
        "outputId": "d1ee506b-fc30-495d-c3a2-5c831acaf136"
      },
      "execution_count": 18,
      "outputs": [
        {
          "output_type": "execute_result",
          "data": {
            "text/plain": [
              "{'con_filter_1': 32,\n",
              " 'kernel_size': 3,\n",
              " 'strides': 1,\n",
              " 'con_filter_2': 48,\n",
              " 'con_filter_3': 16,\n",
              " 'units_1': 128,\n",
              " 'dropout_1': 0.1,\n",
              " 'units_2': 16,\n",
              " 'dropout_2': 0.2,\n",
              " 'learning_rate': 0.01}"
            ]
          },
          "metadata": {},
          "execution_count": 18
        }
      ]
    },
    {
      "cell_type": "code",
      "source": [
        "model=tuner.get_best_models(num_models=1)[0]"
      ],
      "metadata": {
        "id": "-a8w4wm3hWd-"
      },
      "execution_count": 19,
      "outputs": []
    },
    {
      "cell_type": "code",
      "source": [
        "model.summary()"
      ],
      "metadata": {
        "colab": {
          "base_uri": "https://localhost:8080/"
        },
        "id": "lp_RBie5hZvj",
        "outputId": "8bc473e2-6418-47e0-eb19-1604cb9dfc72"
      },
      "execution_count": 20,
      "outputs": [
        {
          "output_type": "stream",
          "name": "stdout",
          "text": [
            "Model: \"sequential\"\n",
            "_________________________________________________________________\n",
            " Layer (type)                Output Shape              Param #   \n",
            "=================================================================\n",
            " conv2d (Conv2D)             (None, 26, 26, 32)        320       \n",
            "                                                                 \n",
            " batch_normalization (Batch  (None, 26, 26, 32)        128       \n",
            " Normalization)                                                  \n",
            "                                                                 \n",
            " max_pooling2d (MaxPooling2  (None, 13, 13, 32)        0         \n",
            " D)                                                              \n",
            "                                                                 \n",
            " conv2d_1 (Conv2D)           (None, 11, 11, 48)        13872     \n",
            "                                                                 \n",
            " batch_normalization_1 (Bat  (None, 11, 11, 48)        192       \n",
            " chNormalization)                                                \n",
            "                                                                 \n",
            " max_pooling2d_1 (MaxPoolin  (None, 5, 5, 48)          0         \n",
            " g2D)                                                            \n",
            "                                                                 \n",
            " conv2d_2 (Conv2D)           (None, 3, 3, 16)          6928      \n",
            "                                                                 \n",
            " batch_normalization_2 (Bat  (None, 3, 3, 16)          64        \n",
            " chNormalization)                                                \n",
            "                                                                 \n",
            " max_pooling2d_2 (MaxPoolin  (None, 1, 1, 16)          0         \n",
            " g2D)                                                            \n",
            "                                                                 \n",
            " flatten (Flatten)           (None, 16)                0         \n",
            "                                                                 \n",
            " dense (Dense)               (None, 128)               2176      \n",
            "                                                                 \n",
            " dropout (Dropout)           (None, 128)               0         \n",
            "                                                                 \n",
            " dense_1 (Dense)             (None, 16)                2064      \n",
            "                                                                 \n",
            " dropout_1 (Dropout)         (None, 16)                0         \n",
            "                                                                 \n",
            " dense_2 (Dense)             (None, 10)                170       \n",
            "                                                                 \n",
            "=================================================================\n",
            "Total params: 25914 (101.23 KB)\n",
            "Trainable params: 25722 (100.48 KB)\n",
            "Non-trainable params: 192 (768.00 Byte)\n",
            "_________________________________________________________________\n"
          ]
        }
      ]
    },
    {
      "cell_type": "code",
      "source": [
        "from sklearn.metrics import confusion_matrix\n",
        "from sklearn.metrics import classification_report\n",
        "from seaborn import heatmap"
      ],
      "metadata": {
        "id": "JyzUPSdthjZh"
      },
      "execution_count": 24,
      "outputs": []
    },
    {
      "cell_type": "code",
      "source": [
        "history=model.fit(x_train,y_train,epochs=10,validation_data=(x_test,y_test),initial_epoch=5)"
      ],
      "metadata": {
        "colab": {
          "base_uri": "https://localhost:8080/"
        },
        "id": "jLbd5f7thcJA",
        "outputId": "18598be3-01eb-45af-dd4b-1cc097438fae"
      },
      "execution_count": 21,
      "outputs": [
        {
          "output_type": "stream",
          "name": "stdout",
          "text": [
            "Epoch 6/10\n",
            "1875/1875 [==============================] - 71s 36ms/step - loss: 0.1123 - accuracy: 0.9712 - val_loss: 0.1047 - val_accuracy: 0.9755\n",
            "Epoch 7/10\n",
            "1875/1875 [==============================] - 72s 38ms/step - loss: 0.1102 - accuracy: 0.9709 - val_loss: 0.1097 - val_accuracy: 0.9753\n",
            "Epoch 8/10\n",
            "1875/1875 [==============================] - 86s 46ms/step - loss: 0.1004 - accuracy: 0.9740 - val_loss: 0.1194 - val_accuracy: 0.9783\n",
            "Epoch 9/10\n",
            "1875/1875 [==============================] - 72s 38ms/step - loss: 0.1017 - accuracy: 0.9732 - val_loss: 0.1087 - val_accuracy: 0.9789\n",
            "Epoch 10/10\n",
            "1875/1875 [==============================] - 69s 37ms/step - loss: 0.0954 - accuracy: 0.9748 - val_loss: 0.1076 - val_accuracy: 0.9751\n"
          ]
        }
      ]
    },
    {
      "cell_type": "code",
      "source": [
        "pd.DataFrame(history.history).plot(figsize=(8,5))\n",
        "plt.grid(True)\n",
        "plt.gca().set_ylim(0,1)\n",
        "plt.show()"
      ],
      "metadata": {
        "colab": {
          "base_uri": "https://localhost:8080/",
          "height": 451
        },
        "id": "iEXIQbk9kTVR",
        "outputId": "aaeec804-6675-4ea9-8db0-c6badd064452"
      },
      "execution_count": 29,
      "outputs": [
        {
          "output_type": "display_data",
          "data": {
            "text/plain": [
              "<Figure size 800x500 with 1 Axes>"
            ],
            "image/png": "[encoded data removed]"
          },
          "metadata": {}
        }
      ]
    },
    {
      "cell_type": "code",
      "source": [
        "y_hat=model.predict(x_test).argmax(axis=1)"
      ],
      "metadata": {
        "colab": {
          "base_uri": "https://localhost:8080/"
        },
        "id": "m0D_gZDYifjm",
        "outputId": "171f0174-7389-4c9b-c905-29dd256a6eab"
      },
      "execution_count": 25,
      "outputs": [
        {
          "output_type": "stream",
          "name": "stdout",
          "text": [
            "313/313 [==============================] - 4s 10ms/step\n"
          ]
        }
      ]
    },
    {
      "cell_type": "code",
      "source": [
        "y_hat"
      ],
      "metadata": {
        "colab": {
          "base_uri": "https://localhost:8080/"
        },
        "id": "KTF7g0hejPA-",
        "outputId": "931f1882-90e2-49a1-f986-5cd38fcaaf39"
      },
      "execution_count": 26,
      "outputs": [
        {
          "output_type": "execute_result",
          "data": {
            "text/plain": [
              "array([7, 2, 1, ..., 4, 5, 6])"
            ]
          },
          "metadata": {},
          "execution_count": 26
        }
      ]
    },
    {
      "cell_type": "code",
      "source": [
        "heatmap(confusion_matrix(y_test,y_hat),annot=True,fmt='d')\n",
        "plt.show()"
      ],
      "metadata": {
        "colab": {
          "base_uri": "https://localhost:8080/",
          "height": 430
        },
        "id": "oLcVNfrmjUHn",
        "outputId": "5eb54e2c-7b7b-42da-d500-824eb40ee142"
      },
      "execution_count": 27,
      "outputs": [
        {
          "output_type": "display_data",
          "data": {
            "text/plain": [
              "<Figure size 640x480 with 2 Axes>"
            ],
            "image/png": "[encoded data removed]"
          },
          "metadata": {}
        }
      ]
    },
    {
      "cell_type": "code",
      "source": [
        "classification_report(y_test,y_hat)"
      ],
      "metadata": {
        "colab": {
          "base_uri": "https://localhost:8080/",
          "height": 157
        },
        "id": "_4R5Y2E2jZPZ",
        "outputId": "3ab134a1-a920-4fa2-a143-fa8011696618"
      },
      "execution_count": 28,
      "outputs": [
        {
          "output_type": "execute_result",
          "data": {
            "text/plain": [
              "'              precision    recall  f1-score   support\\n\\n           0       0.97      0.99      0.98       980\\n           1       0.99      0.99      0.99      1135\\n           2       0.94      0.99      0.96      1032\\n           3       0.96      1.00      0.98      1010\\n           4       0.99      0.96      0.98       982\\n           5       0.99      0.96      0.98       892\\n           6       0.99      0.98      0.99       958\\n           7       0.98      0.95      0.96      1028\\n           8       0.96      0.98      0.97       974\\n           9       0.98      0.95      0.97      1009\\n\\n    accuracy                           0.98     10000\\n   macro avg       0.98      0.97      0.98     10000\\nweighted avg       0.98      0.98      0.98     10000\\n'"
            ],
            "application/vnd.google.colaboratory.intrinsic+json": {
              "type": "string"
            }
          },
          "metadata": {},
          "execution_count": 28
        }
      ]
    },
    {
      "cell_type": "code",
      "source": [
        "model.predict(x_test[0].reshape(1,28,28,1)).argmax(axis=1)"
      ],
      "metadata": {
        "colab": {
          "base_uri": "https://localhost:8080/"
        },
        "id": "785jTkPgjg55",
        "outputId": "c37b7e9b-2641-4ead-b032-cd6c0ae3b48a"
      },
      "execution_count": 32,
      "outputs": [
        {
          "output_type": "stream",
          "name": "stdout",
          "text": [
            "1/1 [==============================] - 0s 148ms/step\n"
          ]
        },
        {
          "output_type": "execute_result",
          "data": {
            "text/plain": [
              "array([7])"
            ]
          },
          "metadata": {},
          "execution_count": 32
        }
      ]
    },
    {
      "cell_type": "code",
      "source": [
        "y_test[0]"
      ],
      "metadata": {
        "colab": {
          "base_uri": "https://localhost:8080/"
        },
        "id": "XI4K9oPQk9jx",
        "outputId": "9575bdf2-7ed7-4b2f-b184-20e71cb66bb4"
      },
      "execution_count": 33,
      "outputs": [
        {
          "output_type": "execute_result",
          "data": {
            "text/plain": [
              "7"
            ]
          },
          "metadata": {},
          "execution_count": 33
        }
      ]
    },
    {
      "cell_type": "code",
      "source": [
        "for i in range(10):\n",
        "  print(\"Predicted value:\",model.predict(x_test[i].reshape(1,28,28,1)).argmax(axis=1)[0])\n",
        "  print(\"Actual value:\",y_test[i])\n",
        "  print(\"*\"*20)"
      ],
      "metadata": {
        "colab": {
          "base_uri": "https://localhost:8080/"
        },
        "id": "fXiZ6Kg9lNRV",
        "outputId": "dcde075b-1de7-47b6-b0a5-47f6e222745f"
      },
      "execution_count": 35,
      "outputs": [
        {
          "output_type": "stream",
          "name": "stdout",
          "text": [
            "1/1 [==============================] - 0s 126ms/step\n",
            "Predicted value: 7\n",
            "Actual value: 7\n",
            "********************\n",
            "1/1 [==============================] - 0s 74ms/step\n",
            "Predicted value: 2\n",
            "Actual value: 2\n",
            "********************\n",
            "1/1 [==============================] - 0s 111ms/step\n",
            "Predicted value: 1\n",
            "Actual value: 1\n",
            "********************\n",
            "1/1 [==============================] - 0s 52ms/step\n",
            "Predicted value: 0\n",
            "Actual value: 0\n",
            "********************\n",
            "1/1 [==============================] - 0s 34ms/step\n",
            "Predicted value: 4\n",
            "Actual value: 4\n",
            "********************\n",
            "1/1 [==============================] - 0s 33ms/step\n",
            "Predicted value: 1\n",
            "Actual value: 1\n",
            "********************\n",
            "1/1 [==============================] - 0s 47ms/step\n",
            "Predicted value: 7\n",
            "Actual value: 4\n",
            "********************\n",
            "1/1 [==============================] - 0s 33ms/step\n",
            "Predicted value: 9\n",
            "Actual value: 9\n",
            "********************\n",
            "1/1 [==============================] - 0s 55ms/step\n",
            "Predicted value: 5\n",
            "Actual value: 5\n",
            "********************\n",
            "1/1 [==============================] - 0s 50ms/step\n",
            "Predicted value: 9\n",
            "Actual value: 9\n",
            "********************\n"
          ]
        }
      ]
    },
    {
      "cell_type": "code",
      "source": [
        ""
      ],
      "metadata": {
        "id": "dj2ukUYpnw-w"
      },
      "execution_count": null,
      "outputs": []
    }
  ]
}